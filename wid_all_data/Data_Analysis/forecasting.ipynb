{
 "cells": [
  {
   "cell_type": "code",
   "execution_count": 1,
   "id": "db1d9c0f",
   "metadata": {},
   "outputs": [],
   "source": [
    "import pandas as pd\n",
    "from statsmodels.tsa.api import Holt\n",
    "from statsmodels.tsa.arima.model import ARIMA\n",
    "from sklearn.ensemble import RandomForestRegressor\n",
    "from sklearn.metrics import mean_absolute_error, mean_squared_error\n",
    "import numpy as np\n",
    "import warnings\n"
   ]
  },
  {
   "cell_type": "code",
   "execution_count": 2,
   "id": "15ad3bfa",
   "metadata": {},
   "outputs": [],
   "source": [
    "warnings.filterwarnings(\"ignore\")\n",
    "\n",
    "# --- 1. Load and Prepare Data ---\n",
    "try:\n",
    "    df = pd.read_csv('WID_data_IN.csv', delimiter=';')\n",
    "except FileNotFoundError:\n",
    "    print(\"Error: WID_data_IN.csv not found.\")\n",
    "    exit()\n",
    "\n",
    "df['year'] = pd.to_datetime(df['year'], format='%Y')\n",
    "variable = 'ehfcari999'"
   ]
  },
  {
   "cell_type": "code",
   "execution_count": 6,
   "id": "d11ab34f",
   "metadata": {},
   "outputs": [
    {
     "name": "stdout",
     "output_type": "stream",
     "text": [
      "351797\n"
     ]
    }
   ],
   "source": [
    "l=len(df['variable']==variable)\n",
    "print(l)"
   ]
  },
  {
   "cell_type": "code",
   "execution_count": 7,
   "id": "00c6da8e",
   "metadata": {},
   "outputs": [],
   "source": [
    "all_percentiles = df[df['variable'] == variable]['percentile'].unique()\n",
    "all_results = []"
   ]
  },
  {
   "cell_type": "markdown",
   "id": "5eb31cb1",
   "metadata": {},
   "source": [
    "# Looping through each percentile"
   ]
  },
  {
   "cell_type": "code",
   "execution_count": 10,
   "id": "df503481",
   "metadata": {},
   "outputs": [
    {
     "name": "stdout",
     "output_type": "stream",
     "text": [
      "Processing p0p100 (1/1)...\n"
     ]
    }
   ],
   "source": [
    "for i, percentile in enumerate(all_percentiles):\n",
    "    print(f\"Processing {percentile} ({i+1}/{len(all_percentiles)})...\")\n",
    "    \n",
    "    try:\n",
    "        ts_df = df[(df['variable'] == variable) & (df['percentile'] == percentile)]\n",
    "        ts = ts_df.set_index('year')['value'].asfreq('AS').dropna()\n",
    "\n",
    "        # Ensure there is enough data to split\n",
    "        if len(ts) < 10:\n",
    "            print(f\"  -> Skipping {percentile} due to insufficient data.\")\n",
    "            continue\n",
    "\n",
    "        # Split data\n",
    "        train = ts[ts.index.year <= 2015]\n",
    "        test = ts[ts.index.year > 2015]\n",
    "        \n",
    "        if test.empty or train.empty:\n",
    "            print(f\"  -> Skipping {percentile} due to empty train/test set after split.\")\n",
    "            continue\n",
    "\n",
    "        # --- Model 1: Naive Forecast ---\n",
    "        naive_predictions = test.shift(1).bfill()\n",
    "        all_results.append({\n",
    "            'Percentile': percentile, 'Model': 'Naive Forecast',\n",
    "            'RMSE': np.sqrt(mean_squared_error(test, naive_predictions)),\n",
    "            'MAE': mean_absolute_error(test, naive_predictions)\n",
    "        })\n",
    "\n",
    "        # --- Model 2: Holt's Linear Trend ---\n",
    "        holt_model = Holt(train, initialization_method=\"estimated\").fit()\n",
    "        holt_predictions = holt_model.forecast(steps=len(test))\n",
    "        all_results.append({\n",
    "            'Percentile': percentile, 'Model': \"Holt's Linear\",\n",
    "            'RMSE': np.sqrt(mean_squared_error(test, holt_predictions)),\n",
    "            'MAE': mean_absolute_error(test, holt_predictions)\n",
    "        })\n",
    "\n",
    "        # --- Model 3: ARIMA ---\n",
    "        arima_model = ARIMA(train, order=(5, 1, 0)).fit()\n",
    "        arima_predictions = arima_model.forecast(steps=len(test))\n",
    "        all_results.append({\n",
    "            'Percentile': percentile, 'Model': 'ARIMA',\n",
    "            'RMSE': np.sqrt(mean_squared_error(test, arima_predictions)),\n",
    "            'MAE': mean_absolute_error(test, arima_predictions)\n",
    "        })\n",
    "        \n",
    "        # --- Model 4: Random Forest ---\n",
    "        def create_lag_features(data, n_lags=3):\n",
    "            df_lags = pd.DataFrame(data)\n",
    "            for j in range(1, n_lags + 1):\n",
    "                df_lags[f'lag_{j}'] = df_lags['value'].shift(j)\n",
    "            df_lags.dropna(inplace=True)\n",
    "            return df_lags\n",
    "\n",
    "        lag_data = create_lag_features(ts)\n",
    "        X = lag_data.drop('value', axis=1)\n",
    "        y = lag_data['value']\n",
    "        \n",
    "        X_train, X_test = X[X.index.year <= 2015], X[X.index.year > 2015]\n",
    "        y_train, y_test = y[y.index.year <= 2015], y[y.index.year > 2015]\n",
    "\n",
    "        if not y_test.empty:\n",
    "            rf = RandomForestRegressor(n_estimators=100, random_state=42).fit(X_train, y_train)\n",
    "            rf_predictions = rf.predict(X_test)\n",
    "            all_results.append({\n",
    "                'Percentile': percentile, 'Model': 'Random Forest',\n",
    "                'RMSE': np.sqrt(mean_squared_error(y_test, rf_predictions)),\n",
    "                'MAE': mean_absolute_error(y_test, rf_predictions)\n",
    "            })\n",
    "\n",
    "    except Exception as e:\n",
    "        print(f\"  -> An error occurred for percentile {percentile}: {e}\")"
   ]
  },
  {
   "cell_type": "code",
   "execution_count": 11,
   "id": "155ca717",
   "metadata": {},
   "outputs": [],
   "source": [
    "results_df = pd.DataFrame(all_results)\n",
    "# Set a multi-index and sort for clear comparison\n",
    "results_df.set_index(['Percentile', 'Model'], inplace=True)\n",
    "results_df.sort_index(inplace=True)"
   ]
  },
  {
   "cell_type": "code",
   "execution_count": 12,
   "id": "af0a32d1",
   "metadata": {},
   "outputs": [
    {
     "name": "stdout",
     "output_type": "stream",
     "text": [
      "\n",
      "--- Comprehensive Model Evaluation Summary ---\n",
      "                                 RMSE         MAE\n",
      "Percentile Model                                 \n",
      "p0p100     ARIMA            83.913455   53.465432\n",
      "           Holt's Linear    98.678677   65.316502\n",
      "           Naive Forecast   43.622355   33.861084\n",
      "           Random Forest   128.555781  123.337538\n"
     ]
    }
   ],
   "source": [
    "print(\"\\n--- Comprehensive Model Evaluation Summary ---\")\n",
    "# To display all rows in the output\n",
    "pd.set_option('display.max_rows', None)\n",
    "print(results_df)\n",
    "pd.reset_option('display.max_rows')"
   ]
  },
  {
   "cell_type": "code",
   "execution_count": null,
   "id": "c5393c0d",
   "metadata": {},
   "outputs": [],
   "source": []
  }
 ],
 "metadata": {
  "kernelspec": {
   "display_name": "base",
   "language": "python",
   "name": "python3"
  },
  "language_info": {
   "codemirror_mode": {
    "name": "ipython",
    "version": 3
   },
   "file_extension": ".py",
   "mimetype": "text/x-python",
   "name": "python",
   "nbconvert_exporter": "python",
   "pygments_lexer": "ipython3",
   "version": "3.11.9"
  }
 },
 "nbformat": 4,
 "nbformat_minor": 5
}
