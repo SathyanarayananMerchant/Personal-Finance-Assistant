{
 "cells": [
  {
   "cell_type": "code",
   "execution_count": 2,
   "metadata": {},
   "outputs": [],
   "source": [
    "import pandas as pd\n",
    "import numpy as np\n",
    "import matplotlib.pyplot as plt\n",
    "import seaborn as sns\n",
    "from sklearn.preprocessing import MinMaxScaler\n",
    "from tensorflow.keras.models import Sequential\n",
    "from tensorflow.keras.layers import LSTM, Dense, Dropout\n",
    "from tensorflow.keras.optimizers import Adam\n",
    "from tensorflow.keras.preprocessing.sequence import TimeseriesGenerator"
   ]
  },
  {
   "cell_type": "code",
   "execution_count": 16,
   "metadata": {},
   "outputs": [
    {
     "name": "stdout",
     "output_type": "stream",
     "text": [
      "  country    variable percentile  year       value  age pop\n",
      "0      IN  ehfcari999     p0p100  1990  312.117210  999   i\n",
      "1      IN  ehfcari999     p0p100  1991  328.894016  999   i\n",
      "2      IN  ehfcari999     p0p100  1992  355.461499  999   i\n",
      "3      IN  ehfcari999     p0p100  1993  358.065985  999   i\n",
      "4      IN  ehfcari999     p0p100  1994  370.890249  999   i\n",
      "5      IN  ehfcari999     p0p100  1995  386.577885  999   i\n",
      "6      IN  ehfcari999     p0p100  1996  424.230646  999   i\n",
      "7      IN  ehfcari999     p0p100  1997  435.690896  999   i\n",
      "8      IN  ehfcari999     p0p100  1998  444.676957  999   i\n",
      "9      IN  ehfcari999     p0p100  1999  489.647561  999   i\n",
      "(351797, 7)\n"
     ]
    }
   ],
   "source": [
    "\n",
    "df = pd.read_csv(\"D:\\PFA\\wid_all_data\\Data_Analysis/WID_data_IN.csv\", delimiter=';')\n",
    "print(df.head(10))\n",
    "print(df.shape)"
   ]
  },
  {
   "cell_type": "code",
   "execution_count": 21,
   "metadata": {},
   "outputs": [
    {
     "name": "stdout",
     "output_type": "stream",
     "text": [
      "['WID_data_AD.csv', 'WID_data_AE.csv', 'WID_data_AF.csv', 'WID_data_AG.csv', 'WID_data_AI.csv', 'WID_data_Al.csv', 'WID_data_AM.csv', 'WID_data_AN.csv', 'WID_data_AO.csv', 'WID_data_AR.csv', 'WID_data_AS.csv', 'WID_data_AT.csv', 'WID_data_AU.csv', 'WID_data_AW.csv', 'WID_data_AZ.csv', 'WID_data_BA.csv', 'WID_data_BB.csv', 'WID_data_BD.csv', 'WID_data_BE.csv', 'WID_data_BF.csv', 'WID_data_BG.csv', 'WID_data_BH.csv', 'WID_data_BI.csv', 'WID_data_BJ.csv', 'WID_data_BL.csv', 'WID_data_BM.csv', 'WID_data_BN.csv', 'WID_data_BO.csv', 'WID_data_BQ.csv', 'WID_data_BR.csv', 'WID_data_BS.csv', 'WID_data_BT.csv', 'WID_data_BW.csv', 'WID_data_BY.csv', 'WID_data_BZ.csv', 'WID_data_CA.csv', 'WID_data_CD.csv', 'WID_data_CF.csv', 'WID_data_CG.csv', 'WID_data_CH.csv', 'WID_data_CI.csv', 'WID_data_CK.csv', 'WID_data_CL.csv', 'WID_data_CM.csv', 'WID_data_CN-RU.csv', 'WID_data_CN-UR.csv', 'WID_data_CN.csv', 'WID_data_CO.csv', 'WID_data_CR.csv', 'WID_data_CS.csv', 'WID_data_CU.csv', 'WID_data_CV.csv', 'WID_data_CW.csv', 'WID_data_CY.csv', 'WID_data_CZ.csv', 'WID_data_DD.csv', 'WID_data_DE-BD.csv', 'WID_data_DE-BY.csv', 'WID_data_DE-HB.csv', 'WID_data_DE-HE.csv', 'WID_data_DE-HH.csv', 'WID_data_DE-PR.csv', 'WID_data_DE-SN.csv', 'WID_data_DE-WU.csv', 'WID_data_DE.csv', 'WID_data_DJ.csv', 'WID_data_DK.csv', 'WID_data_DM.csv', 'WID_data_DO.csv', 'WID_data_DZ.csv', 'WID_data_EC.csv', 'WID_data_EE.csv', 'WID_data_EG.csv', 'WID_data_EH.csv', 'WID_data_ER.csv', 'WID_data_ES.csv', 'WID_data_ET.csv', 'WID_data_FI.csv', 'WID_data_FJ.csv', 'WID_data_FK.csv', 'WID_data_FM.csv', 'WID_data_FO.csv', 'WID_data_FR.csv', 'WID_data_GA.csv', 'WID_data_GB.csv', 'WID_data_GD.csv', 'WID_data_GE.csv', 'WID_data_GG.csv', 'WID_data_GH.csv', 'WID_data_GI.csv', 'WID_data_GL.csv', 'WID_data_GM.csv', 'WID_data_GN.csv', 'WID_data_GQ.csv', 'WID_data_GR.csv', 'WID_data_GT.csv', 'WID_data_GU.csv', 'WID_data_GW.csv', 'WID_data_GY.csv', 'WID_data_HK.csv', 'WID_data_HN.csv', 'WID_data_HR.csv', 'WID_data_HT.csv', 'WID_data_HU.csv', 'WID_data_ID.csv', 'WID_data_IE.csv', 'WID_data_IL.csv', 'WID_data_IM.csv', 'WID_data_IQ.csv', 'WID_data_IR.csv', 'WID_data_IS.csv', 'WID_data_IT.csv', 'WID_data_JE.csv', 'WID_data_JM.csv', 'WID_data_JO.csv', 'WID_data_JP.csv', 'WID_data_KE.csv', 'WID_data_KG.csv', 'WID_data_KH.csv', 'WID_data_KI.csv', 'WID_data_KM.csv', 'WID_data_KN.csv', 'WID_data_KP.csv', 'WID_data_KR.csv', 'WID_data_KS.csv', 'WID_data_KW.csv', 'WID_data_KY.csv', 'WID_data_KZ.csv', 'WID_data_LA.csv', 'WID_data_LB.csv', 'WID_data_LC.csv', 'WID_data_LI.csv', 'WID_data_LK.csv', 'WID_data_LR.csv', 'WID_data_LS.csv', 'WID_data_LT.csv', 'WID_data_LU.csv', 'WID_data_LV.csv', 'WID_data_LY.csv', 'WID_data_MA.csv', 'WID_data_MC.csv', 'WID_data_MD.csv', 'WID_data_ME.csv', 'WID_data_MF.csv', 'WID_data_MG.csv', 'WID_data_MH.csv', 'WID_data_MK.csv', 'WID_data_ML.csv', 'WID_data_MM.csv', 'WID_data_MN.csv', 'WID_data_MO.csv', 'WID_data_MP.csv', 'WID_data_MR.csv', 'WID_data_MS.csv', 'WID_data_MT.csv', 'WID_data_MU.csv', 'WID_data_MV.csv', 'WID_data_MW.csv', 'WID_data_MX.csv', 'WID_data_MY.csv', 'WID_data_MZ.csv', 'WID_data_NA.csv', 'WID_data_NC.csv', 'WID_data_NE.csv', 'WID_data_NG.csv', 'WID_data_NI.csv', 'WID_data_NL.csv', 'WID_data_NO.csv', 'WID_data_NP.csv', 'WID_data_NR.csv', 'WID_data_NU.csv', 'WID_data_NZ.csv', 'WID_data_OA-MER.csv', 'WID_data_OA.csv', 'WID_data_OB-MER.csv', 'WID_data_OB.csv', 'WID_data_OC-MER.csv', 'WID_data_OC.csv', 'WID_data_OD-MER.csv', 'WID_data_OD.csv', 'WID_data_OE-MER.csv', 'WID_data_OE.csv', 'WID_data_OH-MER.csv', 'WID_data_OH.csv', 'WID_data_OI-MER.csv', 'WID_data_OI.csv', 'WID_data_OJ-MER.csv', 'WID_data_OJ.csv', 'WID_data_OK-MER.csv', 'WID_data_OK.csv', 'WID_data_OL-MER.csv', 'WID_data_OL.csv', 'WID_data_OM.csv', 'WID_data_ON-MER.csv', 'WID_data_ON.csv', 'WID_data_OO-MER.csv', 'WID_data_OO.csv', 'WID_data_OP-MER.csv', 'WID_data_OP.csv', 'WID_data_OQ-MER.csv', 'WID_data_OQ.csv', 'WID_data_PA.csv', 'WID_data_PE.csv', 'WID_data_PF.csv', 'WID_data_PG.csv', 'WID_data_PH.csv', 'WID_data_PK.csv', 'WID_data_PL.csv', 'WID_data_PM.csv', 'WID_data_PR.csv', 'WID_data_PS.csv', 'WID_data_PT.csv', 'WID_data_PW.csv', 'WID_data_PY.csv', 'WID_data_QA.csv', 'WID_data_QB-MER.csv', 'WID_data_QB.csv', 'WID_data_QC-MER.csv', 'WID_data_QC.csv', 'WID_data_QD-MER.csv', 'WID_data_QD.csv', 'WID_data_QE-MER.csv', 'WID_data_QE.csv', 'WID_data_QF-MER.csv', 'WID_data_QF.csv', 'WID_data_QG-MER.csv', 'WID_data_QG.csv', 'WID_data_QH-MER.csv', 'WID_data_QH.csv', 'WID_data_QI-MER.csv', 'WID_data_QI.csv', 'WID_data_QJ-MER.csv', 'WID_data_QJ.csv', 'WID_data_QK-MER.csv', 'WID_data_QK.csv', 'WID_data_QL-MER.csv', 'WID_data_QL.csv', 'WID_data_QM-MER.csv', 'WID_data_QM.csv', 'WID_data_QN-MER.csv', 'WID_data_QN.csv', 'WID_data_QO-MER.csv', 'WID_data_QO.csv', 'WID_data_QP-MER.csv', 'WID_data_QP.csv', 'WID_data_QQ-MER.csv', 'WID_data_QQ.csv', 'WID_data_QR-MER.csv', 'WID_data_QR.csv', 'WID_data_QS-MER.csv', 'WID_data_QS.csv', 'WID_data_QT-MER.csv', 'WID_data_QT.csv', 'WID_data_QU-MER.csv', 'WID_data_QU.csv', 'WID_data_QV-MER.csv', 'WID_data_QV.csv', 'WID_data_QW-MER.csv', 'WID_data_QW.csv', 'WID_data_QX-MER.csv', 'WID_data_QX.csv', 'WID_data_QY-MER.csv', 'WID_data_QY.csv', 'WID_data_RO.csv', 'WID_data_RS.csv', 'WID_data_RU.csv', 'WID_data_RW.csv', 'WID_data_SA.csv', 'WID_data_SB.csv', 'WID_data_SC.csv', 'WID_data_SD.csv', 'WID_data_SE.csv', 'WID_data_SG.csv', 'WID_data_SH.csv', 'WID_data_SI.csv', 'WID_data_SK.csv', 'WID_data_SL.csv', 'WID_data_SM.csv', 'WID_data_SN.csv', 'WID_data_SO.csv', 'WID_data_SR.csv', 'WID_data_SS.csv', 'WID_data_ST.csv', 'WID_data_SU.csv', 'WID_data_SV.csv', 'WID_data_SW.csv', 'WID_data_SX.csv', 'WID_data_SY.csv', 'WID_data_SZ.csv', 'WID_data_TC.csv', 'WID_data_TD.csv', 'WID_data_TG.csv', 'WID_data_TH.csv', 'WID_data_TJ.csv', 'WID_data_TK.csv', 'WID_data_TL.csv', 'WID_data_TM.csv', 'WID_data_TN.csv', 'WID_data_TO.csv', 'WID_data_TR.csv', 'WID_data_TT.csv', 'WID_data_TV.csv', 'WID_data_TW.csv', 'WID_data_TZ.csv', 'WID_data_UA.csv', 'WID_data_UG.csv', 'WID_data_US-AK.csv', 'WID_data_US-AL.csv', 'WID_data_US-AR.csv', 'WID_data_US-AZ.csv', 'WID_data_US-CA.csv', 'WID_data_US-CO.csv', 'WID_data_US-CT.csv', 'WID_data_US-DC.csv', 'WID_data_US-DE.csv', 'WID_data_US-FL.csv', 'WID_data_US-GA.csv', 'WID_data_US-HI.csv', 'WID_data_US-IA.csv', 'WID_data_US-ID.csv', 'WID_data_US-IL.csv', 'WID_data_US-IN.csv', 'WID_data_US-KS.csv', 'WID_data_US-KY.csv', 'WID_data_US-LA.csv', 'WID_data_US-MA.csv', 'WID_data_US-MD.csv', 'WID_data_US-ME.csv', 'WID_data_US-MI.csv', 'WID_data_US-MN.csv', 'WID_data_US-MO.csv', 'WID_data_US-MS.csv', 'WID_data_US-MT.csv', 'WID_data_US-NC.csv', 'WID_data_US-ND.csv', 'WID_data_US-NE.csv', 'WID_data_US-NH.csv', 'WID_data_US-NJ.csv', 'WID_data_US-NM.csv', 'WID_data_US-NV.csv', 'WID_data_US-NY.csv', 'WID_data_US-OH.csv', 'WID_data_US-OK.csv', 'WID_data_US-OR.csv', 'WID_data_US-PA.csv', 'WID_data_US-RI.csv', 'WID_data_US-SC.csv', 'WID_data_US-SD.csv', 'WID_data_US-TN.csv', 'WID_data_US-TX.csv', 'WID_data_US-UT.csv', 'WID_data_US-VA.csv', 'WID_data_US-VT.csv', 'WID_data_US-WA.csv', 'WID_data_US-WI.csv', 'WID_data_US-WV.csv', 'WID_data_US-WY.csv', 'WID_data_US.csv', 'WID_data_UY.csv', 'WID_data_UZ.csv', 'WID_data_VA.csv', 'WID_data_VC.csv', 'WID_data_VE.csv', 'WID_data_VG.csv', 'WID_data_VI.csv', 'WID_data_VN.csv', 'WID_data_VU.csv', 'WID_data_WF.csv', 'WID_data_WO-MER.csv', 'WID_data_WO.csv', 'WID_data_WS.csv', 'WID_data_XA-MER.csv', 'WID_data_XA.csv', 'WID_data_XB-MER.csv', 'WID_data_XB.csv', 'WID_data_XC.csv', 'WID_data_XE.csv', 'WID_data_XF-MER.csv', 'WID_data_XF.csv', 'WID_data_XI.csv', 'WID_data_XK.csv', 'WID_data_XL-MER.csv', 'WID_data_XL.csv', 'WID_data_XM-MER.csv', 'WID_data_XM.csv', 'WID_data_XN-MER.csv', 'WID_data_XN.csv', 'WID_data_XQ-MER.csv', 'WID_data_XQ.csv', 'WID_data_XR-MER.csv', 'WID_data_XR.csv', 'WID_data_XS-MER.csv', 'WID_data_XS.csv', 'WID_data_YE.csv', 'WID_data_YU.csv', 'WID_data_ZA.csv', 'WID_data_ZM.csv', 'WID_data_ZW.csv', 'WID_data_ZZ.csv', 'WID_metadata_AD.csv', 'WID_metadata_AE.csv', 'WID_metadata_AF.csv', 'WID_metadata_AG.csv', 'WID_metadata_AI.csv', 'WID_metadata_Al.csv', 'WID_metadata_AM.csv', 'WID_metadata_AN.csv', 'WID_metadata_AO.csv', 'WID_metadata_AR.csv', 'WID_metadata_AS.csv', 'WID_metadata_AT.csv', 'WID_metadata_AU.csv', 'WID_metadata_AW.csv', 'WID_metadata_AZ.csv', 'WID_metadata_BA.csv', 'WID_metadata_BB.csv', 'WID_metadata_BD.csv', 'WID_metadata_BE.csv', 'WID_metadata_BF.csv', 'WID_metadata_BG.csv', 'WID_metadata_BH.csv', 'WID_metadata_BI.csv', 'WID_metadata_BJ.csv', 'WID_metadata_BL.csv', 'WID_metadata_BM.csv', 'WID_metadata_BN.csv', 'WID_metadata_BO.csv', 'WID_metadata_BQ.csv', 'WID_metadata_BR.csv', 'WID_metadata_BS.csv', 'WID_metadata_BT.csv', 'WID_metadata_BW.csv', 'WID_metadata_BY.csv', 'WID_metadata_BZ.csv', 'WID_metadata_CA.csv', 'WID_metadata_CD.csv', 'WID_metadata_CF.csv', 'WID_metadata_CG.csv', 'WID_metadata_CH.csv', 'WID_metadata_CI.csv', 'WID_metadata_CK.csv', 'WID_metadata_CL.csv', 'WID_metadata_CM.csv', 'WID_metadata_CN-RU.csv', 'WID_metadata_CN-UR.csv', 'WID_metadata_CN.csv', 'WID_metadata_CO.csv', 'WID_metadata_CR.csv', 'WID_metadata_CS.csv', 'WID_metadata_CU.csv', 'WID_metadata_CV.csv', 'WID_metadata_CW.csv', 'WID_metadata_CY.csv', 'WID_metadata_CZ.csv', 'WID_metadata_DD.csv', 'WID_metadata_DE-BD.csv', 'WID_metadata_DE-BY.csv', 'WID_metadata_DE-HB.csv', 'WID_metadata_DE-HE.csv', 'WID_metadata_DE-HH.csv', 'WID_metadata_DE-PR.csv', 'WID_metadata_DE-SN.csv', 'WID_metadata_DE-WU.csv', 'WID_metadata_DE.csv', 'WID_metadata_DJ.csv', 'WID_metadata_DK.csv', 'WID_metadata_DM.csv', 'WID_metadata_DO.csv', 'WID_metadata_DZ.csv', 'WID_metadata_EC.csv', 'WID_metadata_EE.csv', 'WID_metadata_EG.csv', 'WID_metadata_EH.csv', 'WID_metadata_ER.csv', 'WID_metadata_ES.csv', 'WID_metadata_ET.csv', 'WID_metadata_FI.csv', 'WID_metadata_FJ.csv', 'WID_metadata_FK.csv', 'WID_metadata_FM.csv', 'WID_metadata_FO.csv', 'WID_metadata_FR.csv', 'WID_metadata_GA.csv', 'WID_metadata_GB.csv', 'WID_metadata_GD.csv', 'WID_metadata_GE.csv', 'WID_metadata_GG.csv', 'WID_metadata_GH.csv', 'WID_metadata_GI.csv', 'WID_metadata_GL.csv', 'WID_metadata_GM.csv', 'WID_metadata_GN.csv', 'WID_metadata_GQ.csv', 'WID_metadata_GR.csv', 'WID_metadata_GT.csv', 'WID_metadata_GU.csv', 'WID_metadata_GW.csv', 'WID_metadata_GY.csv', 'WID_metadata_HK.csv', 'WID_metadata_HN.csv', 'WID_metadata_HR.csv', 'WID_metadata_HT.csv', 'WID_metadata_HU.csv', 'WID_metadata_ID.csv', 'WID_metadata_IE.csv', 'WID_metadata_IL.csv', 'WID_metadata_IM.csv', 'WID_metadata_IQ.csv', 'WID_metadata_IR.csv', 'WID_metadata_IS.csv', 'WID_metadata_IT.csv', 'WID_metadata_JE.csv', 'WID_metadata_JM.csv', 'WID_metadata_JO.csv', 'WID_metadata_JP.csv', 'WID_metadata_KE.csv', 'WID_metadata_KG.csv', 'WID_metadata_KH.csv', 'WID_metadata_KI.csv', 'WID_metadata_KM.csv', 'WID_metadata_KN.csv', 'WID_metadata_KP.csv', 'WID_metadata_KR.csv', 'WID_metadata_KS.csv', 'WID_metadata_KW.csv', 'WID_metadata_KY.csv', 'WID_metadata_KZ.csv', 'WID_metadata_LA.csv', 'WID_metadata_LB.csv', 'WID_metadata_LC.csv', 'WID_metadata_LI.csv', 'WID_metadata_LK.csv', 'WID_metadata_LR.csv', 'WID_metadata_LS.csv', 'WID_metadata_LT.csv', 'WID_metadata_LU.csv', 'WID_metadata_LV.csv', 'WID_metadata_LY.csv', 'WID_metadata_MA.csv', 'WID_metadata_MC.csv', 'WID_metadata_MD.csv', 'WID_metadata_ME.csv', 'WID_metadata_MF.csv', 'WID_metadata_MG.csv', 'WID_metadata_MH.csv', 'WID_metadata_MK.csv', 'WID_metadata_ML.csv', 'WID_metadata_MM.csv', 'WID_metadata_MN.csv', 'WID_metadata_MO.csv', 'WID_metadata_MP.csv', 'WID_metadata_MR.csv', 'WID_metadata_MS.csv', 'WID_metadata_MT.csv', 'WID_metadata_MU.csv', 'WID_metadata_MV.csv', 'WID_metadata_MW.csv', 'WID_metadata_MX.csv', 'WID_metadata_MY.csv', 'WID_metadata_MZ.csv', 'WID_metadata_NA.csv', 'WID_metadata_NC.csv', 'WID_metadata_NE.csv', 'WID_metadata_NG.csv', 'WID_metadata_NI.csv', 'WID_metadata_NL.csv', 'WID_metadata_NO.csv', 'WID_metadata_NP.csv', 'WID_metadata_NR.csv', 'WID_metadata_NU.csv', 'WID_metadata_NZ.csv', 'WID_metadata_OA-MER.csv', 'WID_metadata_OA.csv', 'WID_metadata_OB-MER.csv', 'WID_metadata_OB.csv', 'WID_metadata_OC-MER.csv', 'WID_metadata_OC.csv', 'WID_metadata_OD-MER.csv', 'WID_metadata_OD.csv', 'WID_metadata_OE-MER.csv', 'WID_metadata_OE.csv', 'WID_metadata_OH-MER.csv', 'WID_metadata_OH.csv', 'WID_metadata_OI-MER.csv', 'WID_metadata_OI.csv', 'WID_metadata_OJ-MER.csv', 'WID_metadata_OJ.csv', 'WID_metadata_OK-MER.csv', 'WID_metadata_OK.csv', 'WID_metadata_OL-MER.csv', 'WID_metadata_OL.csv', 'WID_metadata_OM.csv', 'WID_metadata_ON-MER.csv', 'WID_metadata_ON.csv', 'WID_metadata_OO-MER.csv', 'WID_metadata_OO.csv', 'WID_metadata_OP-MER.csv', 'WID_metadata_OP.csv', 'WID_metadata_OQ-MER.csv', 'WID_metadata_OQ.csv', 'WID_metadata_PA.csv', 'WID_metadata_PE.csv', 'WID_metadata_PF.csv', 'WID_metadata_PG.csv', 'WID_metadata_PH.csv', 'WID_metadata_PK.csv', 'WID_metadata_PL.csv', 'WID_metadata_PM.csv', 'WID_metadata_PR.csv', 'WID_metadata_PS.csv', 'WID_metadata_PT.csv', 'WID_metadata_PW.csv', 'WID_metadata_PY.csv', 'WID_metadata_QA.csv', 'WID_metadata_QB-MER.csv', 'WID_metadata_QB.csv', 'WID_metadata_QC-MER.csv', 'WID_metadata_QC.csv', 'WID_metadata_QD-MER.csv', 'WID_metadata_QD.csv', 'WID_metadata_QE-MER.csv', 'WID_metadata_QE.csv', 'WID_metadata_QF-MER.csv', 'WID_metadata_QF.csv', 'WID_metadata_QG-MER.csv', 'WID_metadata_QG.csv', 'WID_metadata_QH-MER.csv', 'WID_metadata_QH.csv', 'WID_metadata_QI-MER.csv', 'WID_metadata_QI.csv', 'WID_metadata_QJ-MER.csv', 'WID_metadata_QJ.csv', 'WID_metadata_QK-MER.csv', 'WID_metadata_QK.csv', 'WID_metadata_QL-MER.csv', 'WID_metadata_QL.csv', 'WID_metadata_QM-MER.csv', 'WID_metadata_QM.csv', 'WID_metadata_QN-MER.csv', 'WID_metadata_QN.csv', 'WID_metadata_QO-MER.csv', 'WID_metadata_QO.csv', 'WID_metadata_QP-MER.csv', 'WID_metadata_QP.csv', 'WID_metadata_QQ-MER.csv', 'WID_metadata_QQ.csv', 'WID_metadata_QR-MER.csv', 'WID_metadata_QR.csv', 'WID_metadata_QS-MER.csv', 'WID_metadata_QS.csv', 'WID_metadata_QT-MER.csv', 'WID_metadata_QT.csv', 'WID_metadata_QU-MER.csv', 'WID_metadata_QU.csv', 'WID_metadata_QV-MER.csv', 'WID_metadata_QV.csv', 'WID_metadata_QW-MER.csv', 'WID_metadata_QW.csv', 'WID_metadata_QX-MER.csv', 'WID_metadata_QX.csv', 'WID_metadata_QY-MER.csv', 'WID_metadata_QY.csv', 'WID_metadata_RO.csv', 'WID_metadata_RS.csv', 'WID_metadata_RU.csv', 'WID_metadata_RW.csv', 'WID_metadata_SA.csv', 'WID_metadata_SB.csv', 'WID_metadata_SC.csv', 'WID_metadata_SD.csv', 'WID_metadata_SE.csv', 'WID_metadata_SG.csv', 'WID_metadata_SH.csv', 'WID_metadata_SI.csv', 'WID_metadata_SK.csv', 'WID_metadata_SL.csv', 'WID_metadata_SM.csv', 'WID_metadata_SN.csv', 'WID_metadata_SO.csv', 'WID_metadata_SR.csv', 'WID_metadata_SS.csv', 'WID_metadata_ST.csv', 'WID_metadata_SU.csv', 'WID_metadata_SV.csv', 'WID_metadata_SW.csv', 'WID_metadata_SX.csv', 'WID_metadata_SY.csv', 'WID_metadata_SZ.csv', 'WID_metadata_TC.csv', 'WID_metadata_TD.csv', 'WID_metadata_TG.csv', 'WID_metadata_TH.csv', 'WID_metadata_TJ.csv', 'WID_metadata_TK.csv', 'WID_metadata_TL.csv', 'WID_metadata_TM.csv', 'WID_metadata_TN.csv', 'WID_metadata_TO.csv', 'WID_metadata_TR.csv', 'WID_metadata_TT.csv', 'WID_metadata_TV.csv', 'WID_metadata_TW.csv', 'WID_metadata_TZ.csv', 'WID_metadata_UA.csv', 'WID_metadata_UG.csv', 'WID_metadata_US-AK.csv', 'WID_metadata_US-AL.csv', 'WID_metadata_US-AR.csv', 'WID_metadata_US-AZ.csv', 'WID_metadata_US-CA.csv', 'WID_metadata_US-CO.csv', 'WID_metadata_US-CT.csv', 'WID_metadata_US-DC.csv', 'WID_metadata_US-DE.csv', 'WID_metadata_US-FL.csv', 'WID_metadata_US-GA.csv', 'WID_metadata_US-HI.csv', 'WID_metadata_US-IA.csv', 'WID_metadata_US-ID.csv', 'WID_metadata_US-IL.csv', 'WID_metadata_US-IN.csv', 'WID_metadata_US-KS.csv', 'WID_metadata_US-KY.csv', 'WID_metadata_US-LA.csv', 'WID_metadata_US-MA.csv', 'WID_metadata_US-MD.csv', 'WID_metadata_US-ME.csv', 'WID_metadata_US-MI.csv', 'WID_metadata_US-MN.csv', 'WID_metadata_US-MO.csv', 'WID_metadata_US-MS.csv', 'WID_metadata_US-MT.csv', 'WID_metadata_US-NC.csv', 'WID_metadata_US-ND.csv', 'WID_metadata_US-NE.csv', 'WID_metadata_US-NH.csv', 'WID_metadata_US-NJ.csv', 'WID_metadata_US-NM.csv', 'WID_metadata_US-NV.csv', 'WID_metadata_US-NY.csv', 'WID_metadata_US-OH.csv', 'WID_metadata_US-OK.csv', 'WID_metadata_US-OR.csv', 'WID_metadata_US-PA.csv', 'WID_metadata_US-RI.csv', 'WID_metadata_US-SC.csv', 'WID_metadata_US-SD.csv', 'WID_metadata_US-TN.csv', 'WID_metadata_US-TX.csv', 'WID_metadata_US-UT.csv', 'WID_metadata_US-VA.csv', 'WID_metadata_US-VT.csv', 'WID_metadata_US-WA.csv', 'WID_metadata_US-WI.csv', 'WID_metadata_US-WV.csv', 'WID_metadata_US-WY.csv', 'WID_metadata_US.csv', 'WID_metadata_UY.csv', 'WID_metadata_UZ.csv', 'WID_metadata_VA.csv', 'WID_metadata_VC.csv', 'WID_metadata_VE.csv', 'WID_metadata_VG.csv', 'WID_metadata_VI.csv', 'WID_metadata_VN.csv', 'WID_metadata_VU.csv', 'WID_metadata_WF.csv', 'WID_metadata_WO-MER.csv', 'WID_metadata_WO.csv', 'WID_metadata_WS.csv', 'WID_metadata_XA-MER.csv', 'WID_metadata_XA.csv', 'WID_metadata_XB-MER.csv', 'WID_metadata_XB.csv', 'WID_metadata_XC.csv', 'WID_metadata_XE.csv', 'WID_metadata_XF-MER.csv', 'WID_metadata_XF.csv', 'WID_metadata_XI.csv', 'WID_metadata_XK.csv', 'WID_metadata_XL-MER.csv', 'WID_metadata_XL.csv', 'WID_metadata_XM-MER.csv', 'WID_metadata_XM.csv', 'WID_metadata_XN-MER.csv', 'WID_metadata_XN.csv', 'WID_metadata_XQ-MER.csv', 'WID_metadata_XQ.csv', 'WID_metadata_XR-MER.csv', 'WID_metadata_XR.csv', 'WID_metadata_XS-MER.csv', 'WID_metadata_XS.csv', 'WID_metadata_YE.csv', 'WID_metadata_YU.csv', 'WID_metadata_ZA.csv', 'WID_metadata_ZM.csv', 'WID_metadata_ZW.csv', 'WID_metadata_ZZ.csv']\n"
     ]
    }
   ],
   "source": [
    "import os\n",
    "print(os.listdir(\"D:\\PFA\\wid_all_data\\Additional_data\"))"
   ]
  },
  {
   "cell_type": "code",
   "execution_count": null,
   "metadata": {},
   "outputs": [],
   "source": []
  },
  {
   "cell_type": "code",
   "execution_count": null,
   "metadata": {},
   "outputs": [],
   "source": []
  },
  {
   "cell_type": "code",
   "execution_count": 17,
   "metadata": {},
   "outputs": [],
   "source": [
    "import os\n",
    "def load_additional_data_from_dir(directory):\n",
    "    csv_files = [os.path.join(directory, file) for file in os.listdir(directory)\n",
    "                 if file.endswith(\".csv\") and \"metadata\" not in file.lower()]\n",
    "    dataframes = [pd.read_csv(file, delimiter=';') for file in csv_files]\n",
    "    return pd.concat(dataframes, ignore_index=True)"
   ]
  },
  {
   "cell_type": "code",
   "execution_count": 18,
   "metadata": {},
   "outputs": [
    {
     "name": "stderr",
     "output_type": "stream",
     "text": [
      "C:\\Users\\Administrator\\AppData\\Local\\Temp\\ipykernel_16612\\290261463.py:6: FutureWarning: The behavior of DataFrame concatenation with empty or all-NA entries is deprecated. In a future version, this will no longer exclude empty or all-NA columns when determining the result dtypes. To retain the old behavior, exclude the relevant entries before the concat operation.\n",
      "  return pd.concat(dataframes, ignore_index=True)\n"
     ]
    }
   ],
   "source": [
    "additional_data_dir = \"D:\\PFA\\wid_all_data\\Additional_data\"\n",
    "df_additional = load_additional_data_from_dir(additional_data_dir)\n",
    "\n",
    "# df = df+df_additional"
   ]
  },
  {
   "cell_type": "code",
   "execution_count": 19,
   "metadata": {},
   "outputs": [
    {
     "data": {
      "text/plain": [
       "(60275573, 7)"
      ]
     },
     "execution_count": 19,
     "metadata": {},
     "output_type": "execute_result"
    }
   ],
   "source": [
    "df_additional.shape"
   ]
  },
  {
   "cell_type": "code",
   "execution_count": 23,
   "metadata": {},
   "outputs": [
    {
     "data": {
      "text/plain": [
       "<bound method NDFrame.describe of          country    variable percentile  year  value  age pop\n",
       "0             AD  adiincj992      p0p10  1980  550.3  992   j\n",
       "1             AD  adiincj992      p0p10  1981  511.0  992   j\n",
       "2             AD  adiincj992      p0p10  1982  491.5  992   j\n",
       "3             AD  adiincj992      p0p10  1983  495.5  992   j\n",
       "4             AD  adiincj992      p0p10  1984  500.5  992   j\n",
       "...          ...         ...        ...   ...    ...  ...  ..\n",
       "60275568      ZZ  npopulm901     p0p100  2019  146.0  901   m\n",
       "60275569      ZZ  npopulm901     p0p100  2020  150.0  901   m\n",
       "60275570      ZZ  npopulm901     p0p100  2021  151.0  901   m\n",
       "60275571      ZZ  npopulm901     p0p100  2022  154.0  901   m\n",
       "60275572      ZZ  npopulm901     p0p100  2023  154.0  901   m\n",
       "\n",
       "[60275573 rows x 7 columns]>"
      ]
     },
     "execution_count": 23,
     "metadata": {},
     "output_type": "execute_result"
    }
   ],
   "source": [
    "df_additional.describe"
   ]
  },
  {
   "cell_type": "code",
   "execution_count": 24,
   "metadata": {},
   "outputs": [],
   "source": [
    "df=pd.concat([df,df_additional])"
   ]
  },
  {
   "cell_type": "code",
   "execution_count": 26,
   "metadata": {},
   "outputs": [
    {
     "name": "stdout",
     "output_type": "stream",
     "text": [
      "(60627370, 7)\n",
      "<bound method NDFrame.describe of          country    variable percentile  year       value  age pop\n",
      "0             IN  ehfcari999     p0p100  1990  312.117210  999   i\n",
      "1             IN  ehfcari999     p0p100  1991  328.894016  999   i\n",
      "2             IN  ehfcari999     p0p100  1992  355.461499  999   i\n",
      "3             IN  ehfcari999     p0p100  1993  358.065985  999   i\n",
      "4             IN  ehfcari999     p0p100  1994  370.890249  999   i\n",
      "...          ...         ...        ...   ...         ...  ...  ..\n",
      "60275568      ZZ  npopulm901     p0p100  2019  146.000000  901   m\n",
      "60275569      ZZ  npopulm901     p0p100  2020  150.000000  901   m\n",
      "60275570      ZZ  npopulm901     p0p100  2021  151.000000  901   m\n",
      "60275571      ZZ  npopulm901     p0p100  2022  154.000000  901   m\n",
      "60275572      ZZ  npopulm901     p0p100  2023  154.000000  901   m\n",
      "\n",
      "[60627370 rows x 7 columns]>\n"
     ]
    }
   ],
   "source": [
    "print(df.shape)\n",
    "print(df.describe)"
   ]
  },
  {
   "cell_type": "code",
   "execution_count": 27,
   "metadata": {},
   "outputs": [
    {
     "data": {
      "text/plain": [
       "<bound method Series.unique of 0           IN\n",
       "1           IN\n",
       "2           IN\n",
       "3           IN\n",
       "4           IN\n",
       "            ..\n",
       "60275568    ZZ\n",
       "60275569    ZZ\n",
       "60275570    ZZ\n",
       "60275571    ZZ\n",
       "60275572    ZZ\n",
       "Name: country, Length: 60627370, dtype: object>"
      ]
     },
     "execution_count": 27,
     "metadata": {},
     "output_type": "execute_result"
    }
   ],
   "source": [
    "df['country'].unique"
   ]
  },
  {
   "cell_type": "code",
   "execution_count": null,
   "metadata": {},
   "outputs": [],
   "source": []
  },
  {
   "cell_type": "code",
   "execution_count": 28,
   "metadata": {},
   "outputs": [
    {
     "data": {
      "text/html": [
       "<div>\n",
       "<style scoped>\n",
       "    .dataframe tbody tr th:only-of-type {\n",
       "        vertical-align: middle;\n",
       "    }\n",
       "\n",
       "    .dataframe tbody tr th {\n",
       "        vertical-align: top;\n",
       "    }\n",
       "\n",
       "    .dataframe thead th {\n",
       "        text-align: right;\n",
       "    }\n",
       "</style>\n",
       "<table border=\"1\" class=\"dataframe\">\n",
       "  <thead>\n",
       "    <tr style=\"text-align: right;\">\n",
       "      <th></th>\n",
       "      <th>country</th>\n",
       "      <th>variable</th>\n",
       "      <th>percentile</th>\n",
       "      <th>year</th>\n",
       "      <th>value</th>\n",
       "      <th>age</th>\n",
       "      <th>pop</th>\n",
       "    </tr>\n",
       "  </thead>\n",
       "  <tbody>\n",
       "    <tr>\n",
       "      <th>0</th>\n",
       "      <td>IN</td>\n",
       "      <td>ehfcari999</td>\n",
       "      <td>p0p100</td>\n",
       "      <td>1990</td>\n",
       "      <td>312.117210</td>\n",
       "      <td>999</td>\n",
       "      <td>i</td>\n",
       "    </tr>\n",
       "    <tr>\n",
       "      <th>1</th>\n",
       "      <td>IN</td>\n",
       "      <td>ehfcari999</td>\n",
       "      <td>p0p100</td>\n",
       "      <td>1991</td>\n",
       "      <td>328.894016</td>\n",
       "      <td>999</td>\n",
       "      <td>i</td>\n",
       "    </tr>\n",
       "    <tr>\n",
       "      <th>2</th>\n",
       "      <td>IN</td>\n",
       "      <td>ehfcari999</td>\n",
       "      <td>p0p100</td>\n",
       "      <td>1992</td>\n",
       "      <td>355.461499</td>\n",
       "      <td>999</td>\n",
       "      <td>i</td>\n",
       "    </tr>\n",
       "    <tr>\n",
       "      <th>3</th>\n",
       "      <td>IN</td>\n",
       "      <td>ehfcari999</td>\n",
       "      <td>p0p100</td>\n",
       "      <td>1993</td>\n",
       "      <td>358.065985</td>\n",
       "      <td>999</td>\n",
       "      <td>i</td>\n",
       "    </tr>\n",
       "    <tr>\n",
       "      <th>4</th>\n",
       "      <td>IN</td>\n",
       "      <td>ehfcari999</td>\n",
       "      <td>p0p100</td>\n",
       "      <td>1994</td>\n",
       "      <td>370.890249</td>\n",
       "      <td>999</td>\n",
       "      <td>i</td>\n",
       "    </tr>\n",
       "    <tr>\n",
       "      <th>5</th>\n",
       "      <td>IN</td>\n",
       "      <td>ehfcari999</td>\n",
       "      <td>p0p100</td>\n",
       "      <td>1995</td>\n",
       "      <td>386.577885</td>\n",
       "      <td>999</td>\n",
       "      <td>i</td>\n",
       "    </tr>\n",
       "    <tr>\n",
       "      <th>6</th>\n",
       "      <td>IN</td>\n",
       "      <td>ehfcari999</td>\n",
       "      <td>p0p100</td>\n",
       "      <td>1996</td>\n",
       "      <td>424.230646</td>\n",
       "      <td>999</td>\n",
       "      <td>i</td>\n",
       "    </tr>\n",
       "    <tr>\n",
       "      <th>7</th>\n",
       "      <td>IN</td>\n",
       "      <td>ehfcari999</td>\n",
       "      <td>p0p100</td>\n",
       "      <td>1997</td>\n",
       "      <td>435.690896</td>\n",
       "      <td>999</td>\n",
       "      <td>i</td>\n",
       "    </tr>\n",
       "    <tr>\n",
       "      <th>8</th>\n",
       "      <td>IN</td>\n",
       "      <td>ehfcari999</td>\n",
       "      <td>p0p100</td>\n",
       "      <td>1998</td>\n",
       "      <td>444.676957</td>\n",
       "      <td>999</td>\n",
       "      <td>i</td>\n",
       "    </tr>\n",
       "    <tr>\n",
       "      <th>9</th>\n",
       "      <td>IN</td>\n",
       "      <td>ehfcari999</td>\n",
       "      <td>p0p100</td>\n",
       "      <td>1999</td>\n",
       "      <td>489.647561</td>\n",
       "      <td>999</td>\n",
       "      <td>i</td>\n",
       "    </tr>\n",
       "  </tbody>\n",
       "</table>\n",
       "</div>"
      ],
      "text/plain": [
       "  country    variable percentile  year       value  age pop\n",
       "0      IN  ehfcari999     p0p100  1990  312.117210  999   i\n",
       "1      IN  ehfcari999     p0p100  1991  328.894016  999   i\n",
       "2      IN  ehfcari999     p0p100  1992  355.461499  999   i\n",
       "3      IN  ehfcari999     p0p100  1993  358.065985  999   i\n",
       "4      IN  ehfcari999     p0p100  1994  370.890249  999   i\n",
       "5      IN  ehfcari999     p0p100  1995  386.577885  999   i\n",
       "6      IN  ehfcari999     p0p100  1996  424.230646  999   i\n",
       "7      IN  ehfcari999     p0p100  1997  435.690896  999   i\n",
       "8      IN  ehfcari999     p0p100  1998  444.676957  999   i\n",
       "9      IN  ehfcari999     p0p100  1999  489.647561  999   i"
      ]
     },
     "execution_count": 28,
     "metadata": {},
     "output_type": "execute_result"
    }
   ],
   "source": [
    "df[\"year\"] = pd.to_numeric(df[\"year\"], errors='coerce')\n",
    "df[\"value\"] = pd.to_numeric(df[\"value\"], errors='coerce')\n",
    "df.dropna(inplace=True)\n",
    "df.head(10)"
   ]
  },
  {
   "cell_type": "code",
   "execution_count": 36,
   "metadata": {},
   "outputs": [
    {
     "name": "stdout",
     "output_type": "stream",
     "text": [
      "country\n",
      "variable\n",
      "percentile\n",
      "year\n",
      "value\n",
      "age\n",
      "pop\n"
     ]
    }
   ],
   "source": [
    "selected_countries = [\"CN\",\"DE\",\"FR\",\"ZA\",\"GB\",\"US\",\"IN\"]\n",
    "d_df=df.drop(axis=0,index=0)\n",
    "for row in d_df:\n",
    "    print(row)\n",
    "    \n",
    "    \n",
    "\n",
    "# df_filtered = df_filtered[df_filtered[\"country\"].isin(selected_countries)]\n",
    "# print(df_filtered)\n",
    "# print(df_filtered.describe)\n",
    "\n",
    "# Major_economies=[\"USA\",\"China\",\"Germany\",\"France\",\"India\",\"United Kingdom\",\"South Africa\"]\n",
    "\n",
    "# # plt.figure(figsize=(12, 6))\n",
    "# # for country in selected_countries:\n",
    "# #     country_data = df_selected[df_selected[\"country\"] == country].sort_values(by=\"year\")\n",
    "# #     plt.plot(country_data[\"year\"],country_data[\"value\"],label=country)\n",
    "\n",
    "# df_filtered[\"year\"] = pd.to_numeric(df_filtered[\"year\"], errors='coerce')\n",
    "# df_filtered[\"value\"] = pd.to_numeric(df_filtered[\"value\"], errors='coerce')\n",
    "# df_filtered.dropna(subset=[\"year\", \"value\"], inplace=True)\n",
    "\n",
    "# # Create subplots: one line chart per country in a single figure\n",
    "# n = len(selected_countries)\n",
    "# fig, axes = plt.subplots(n, 1, figsize=(12, 4 * n), sharex=True)\n",
    "\n",
    "# # If only one subplot exists, wrap axes in a list\n",
    "# if n == 1:\n",
    "#     axes = [axes]\n",
    "\n",
    "# for ax, country in zip(axes, selected_countries):\n",
    "#     # Sort data by year to ensure a smooth line\n",
    "#     country_data = df_filtered[df_filtered[\"country\"] == country].sort_values(by=\"year\")\n",
    "#     # Plot using seaborn's lineplot\n",
    "#     sns.lineplot(data=country_data, x=\"year\", y=\"value\", ax=ax)\n",
    "#     ax.set_title(f\"{country} - Pre-tax National Income (ptinc, p90p100)\")\n",
    "#     ax.set_ylabel(\"Value\")\n",
    "    \n",
    "# plt.xlabel(\"Year\")\n",
    "# plt.tight_layout()\n",
    "# plt.show()\n"
   ]
  },
  {
   "cell_type": "code",
   "execution_count": null,
   "metadata": {},
   "outputs": [],
   "source": []
  },
  {
   "cell_type": "code",
   "execution_count": null,
   "metadata": {},
   "outputs": [],
   "source": []
  },
  {
   "cell_type": "code",
   "execution_count": null,
   "metadata": {},
   "outputs": [],
   "source": []
  }
 ],
 "metadata": {
  "kernelspec": {
   "display_name": "base",
   "language": "python",
   "name": "python3"
  },
  "language_info": {
   "codemirror_mode": {
    "name": "ipython",
    "version": 3
   },
   "file_extension": ".py",
   "mimetype": "text/x-python",
   "name": "python",
   "nbconvert_exporter": "python",
   "pygments_lexer": "ipython3",
   "version": "3.11.9"
  }
 },
 "nbformat": 4,
 "nbformat_minor": 2
}
